{
 "cells": [
  {
   "cell_type": "markdown",
   "id": "8d80a22a",
   "metadata": {},
   "source": [
    "# This notebook illustrates how to create a more useful boxplot"
   ]
  },
  {
   "cell_type": "markdown",
   "id": "c0389827",
   "metadata": {},
   "source": [
    "Boxplots are great ways to illustrate comparisons of distributions between groups. Several key drawbacks of default created boxplots include: 1) Failing to take into account how many observations fall into each box; 2) Not including indications of the mean which can be affected by outliers; and 3) Providing the value of the mean on the chart. The approach below was modified from several different sources to create a boxplot that addresses these issues using Matplotlib. Note, to run this you will need to extract the file \"clu_calc.csv\" from the GitHub page and set your path for the file to download (or wherever you place the file). Happy plotting."
   ]
  },
  {
   "cell_type": "code",
   "execution_count": 1,
   "id": "dde54da6",
   "metadata": {},
   "outputs": [],
   "source": [
    "# load packages\n",
    "from matplotlib import pyplot as plt\n",
    "import numpy as np\n",
    "import pandas as pd\n",
    "import seaborn as sns\n",
    "import os"
   ]
  },
  {
   "cell_type": "code",
   "execution_count": 2,
   "id": "c5bab696",
   "metadata": {},
   "outputs": [
    {
     "data": {
      "text/plain": [
       "'/Users/hooverjh/Downloads'"
      ]
     },
     "execution_count": 2,
     "metadata": {},
     "output_type": "execute_result"
    }
   ],
   "source": [
    "# change working directory to your downloads folder\n",
    "os.chdir('/Users/hooverjh/Downloads') #replace the path to wherever you place the downloaded file\n",
    "os.getcwd()"
   ]
  },
  {
   "cell_type": "code",
   "execution_count": 3,
   "id": "f1bc3a03",
   "metadata": {},
   "outputs": [
    {
     "data": {
      "text/html": [
       "<div>\n",
       "<style scoped>\n",
       "    .dataframe tbody tr th:only-of-type {\n",
       "        vertical-align: middle;\n",
       "    }\n",
       "\n",
       "    .dataframe tbody tr th {\n",
       "        vertical-align: top;\n",
       "    }\n",
       "\n",
       "    .dataframe thead th {\n",
       "        text-align: right;\n",
       "    }\n",
       "</style>\n",
       "<table border=\"1\" class=\"dataframe\">\n",
       "  <thead>\n",
       "    <tr style=\"text-align: right;\">\n",
       "      <th></th>\n",
       "      <th>CustID</th>\n",
       "      <th>Gender</th>\n",
       "      <th>Age</th>\n",
       "      <th>Inc</th>\n",
       "      <th>SpendScr</th>\n",
       "      <th>label</th>\n",
       "    </tr>\n",
       "  </thead>\n",
       "  <tbody>\n",
       "    <tr>\n",
       "      <th>0</th>\n",
       "      <td>1</td>\n",
       "      <td>Male</td>\n",
       "      <td>19</td>\n",
       "      <td>15</td>\n",
       "      <td>39</td>\n",
       "      <td>1</td>\n",
       "    </tr>\n",
       "    <tr>\n",
       "      <th>1</th>\n",
       "      <td>2</td>\n",
       "      <td>Male</td>\n",
       "      <td>21</td>\n",
       "      <td>15</td>\n",
       "      <td>81</td>\n",
       "      <td>1</td>\n",
       "    </tr>\n",
       "    <tr>\n",
       "      <th>2</th>\n",
       "      <td>3</td>\n",
       "      <td>Female</td>\n",
       "      <td>20</td>\n",
       "      <td>16</td>\n",
       "      <td>6</td>\n",
       "      <td>1</td>\n",
       "    </tr>\n",
       "    <tr>\n",
       "      <th>3</th>\n",
       "      <td>4</td>\n",
       "      <td>Female</td>\n",
       "      <td>23</td>\n",
       "      <td>16</td>\n",
       "      <td>77</td>\n",
       "      <td>1</td>\n",
       "    </tr>\n",
       "    <tr>\n",
       "      <th>4</th>\n",
       "      <td>5</td>\n",
       "      <td>Female</td>\n",
       "      <td>31</td>\n",
       "      <td>17</td>\n",
       "      <td>40</td>\n",
       "      <td>1</td>\n",
       "    </tr>\n",
       "    <tr>\n",
       "      <th>...</th>\n",
       "      <td>...</td>\n",
       "      <td>...</td>\n",
       "      <td>...</td>\n",
       "      <td>...</td>\n",
       "      <td>...</td>\n",
       "      <td>...</td>\n",
       "    </tr>\n",
       "    <tr>\n",
       "      <th>195</th>\n",
       "      <td>196</td>\n",
       "      <td>Female</td>\n",
       "      <td>35</td>\n",
       "      <td>120</td>\n",
       "      <td>79</td>\n",
       "      <td>2</td>\n",
       "    </tr>\n",
       "    <tr>\n",
       "      <th>196</th>\n",
       "      <td>197</td>\n",
       "      <td>Female</td>\n",
       "      <td>45</td>\n",
       "      <td>126</td>\n",
       "      <td>28</td>\n",
       "      <td>0</td>\n",
       "    </tr>\n",
       "    <tr>\n",
       "      <th>197</th>\n",
       "      <td>198</td>\n",
       "      <td>Male</td>\n",
       "      <td>32</td>\n",
       "      <td>126</td>\n",
       "      <td>74</td>\n",
       "      <td>2</td>\n",
       "    </tr>\n",
       "    <tr>\n",
       "      <th>198</th>\n",
       "      <td>199</td>\n",
       "      <td>Male</td>\n",
       "      <td>32</td>\n",
       "      <td>137</td>\n",
       "      <td>18</td>\n",
       "      <td>0</td>\n",
       "    </tr>\n",
       "    <tr>\n",
       "      <th>199</th>\n",
       "      <td>200</td>\n",
       "      <td>Male</td>\n",
       "      <td>30</td>\n",
       "      <td>137</td>\n",
       "      <td>83</td>\n",
       "      <td>2</td>\n",
       "    </tr>\n",
       "  </tbody>\n",
       "</table>\n",
       "<p>200 rows × 6 columns</p>\n",
       "</div>"
      ],
      "text/plain": [
       "     CustID  Gender  Age  Inc  SpendScr  label\n",
       "0         1    Male   19   15        39      1\n",
       "1         2    Male   21   15        81      1\n",
       "2         3  Female   20   16         6      1\n",
       "3         4  Female   23   16        77      1\n",
       "4         5  Female   31   17        40      1\n",
       "..      ...     ...  ...  ...       ...    ...\n",
       "195     196  Female   35  120        79      2\n",
       "196     197  Female   45  126        28      0\n",
       "197     198    Male   32  126        74      2\n",
       "198     199    Male   32  137        18      0\n",
       "199     200    Male   30  137        83      2\n",
       "\n",
       "[200 rows x 6 columns]"
      ]
     },
     "execution_count": 3,
     "metadata": {},
     "output_type": "execute_result"
    }
   ],
   "source": [
    "# download the file clu_calc.csv from GitHub into your Downloads folder\n",
    "df = pd.read_csv(\"clu_calc.csv\")\n",
    "df"
   ]
  },
  {
   "cell_type": "code",
   "execution_count": 4,
   "id": "5433316b",
   "metadata": {},
   "outputs": [],
   "source": [
    "# change the cluster label from an integer to a string (i.e., category)\n",
    "df.label = df.label.astype(str)"
   ]
  },
  {
   "cell_type": "code",
   "execution_count": 5,
   "id": "85504568",
   "metadata": {},
   "outputs": [
    {
     "data": {
      "text/plain": [
       "CustID       int64\n",
       "Gender      object\n",
       "Age          int64\n",
       "Inc          int64\n",
       "SpendScr     int64\n",
       "label       object\n",
       "dtype: object"
      ]
     },
     "execution_count": 5,
     "metadata": {},
     "output_type": "execute_result"
    }
   ],
   "source": [
    "# check the data type of the columns\n",
    "df.dtypes"
   ]
  },
  {
   "cell_type": "code",
   "execution_count": 6,
   "id": "4fde8655",
   "metadata": {},
   "outputs": [
    {
     "data": {
      "text/html": [
       "<div>\n",
       "<style scoped>\n",
       "    .dataframe tbody tr th:only-of-type {\n",
       "        vertical-align: middle;\n",
       "    }\n",
       "\n",
       "    .dataframe tbody tr th {\n",
       "        vertical-align: top;\n",
       "    }\n",
       "\n",
       "    .dataframe thead th {\n",
       "        text-align: right;\n",
       "    }\n",
       "</style>\n",
       "<table border=\"1\" class=\"dataframe\">\n",
       "  <thead>\n",
       "    <tr style=\"text-align: right;\">\n",
       "      <th></th>\n",
       "      <th>CustID</th>\n",
       "      <th>Gender</th>\n",
       "      <th>Age</th>\n",
       "      <th>Inc</th>\n",
       "      <th>SpendScr</th>\n",
       "      <th>label</th>\n",
       "    </tr>\n",
       "  </thead>\n",
       "  <tbody>\n",
       "    <tr>\n",
       "      <th>136</th>\n",
       "      <td>137</td>\n",
       "      <td>Female</td>\n",
       "      <td>44</td>\n",
       "      <td>73</td>\n",
       "      <td>7</td>\n",
       "      <td>0</td>\n",
       "    </tr>\n",
       "    <tr>\n",
       "      <th>154</th>\n",
       "      <td>155</td>\n",
       "      <td>Female</td>\n",
       "      <td>47</td>\n",
       "      <td>78</td>\n",
       "      <td>16</td>\n",
       "      <td>0</td>\n",
       "    </tr>\n",
       "    <tr>\n",
       "      <th>152</th>\n",
       "      <td>153</td>\n",
       "      <td>Female</td>\n",
       "      <td>44</td>\n",
       "      <td>78</td>\n",
       "      <td>20</td>\n",
       "      <td>0</td>\n",
       "    </tr>\n",
       "    <tr>\n",
       "      <th>198</th>\n",
       "      <td>199</td>\n",
       "      <td>Male</td>\n",
       "      <td>32</td>\n",
       "      <td>137</td>\n",
       "      <td>18</td>\n",
       "      <td>0</td>\n",
       "    </tr>\n",
       "    <tr>\n",
       "      <th>148</th>\n",
       "      <td>149</td>\n",
       "      <td>Female</td>\n",
       "      <td>34</td>\n",
       "      <td>78</td>\n",
       "      <td>22</td>\n",
       "      <td>0</td>\n",
       "    </tr>\n",
       "    <tr>\n",
       "      <th>...</th>\n",
       "      <td>...</td>\n",
       "      <td>...</td>\n",
       "      <td>...</td>\n",
       "      <td>...</td>\n",
       "      <td>...</td>\n",
       "      <td>...</td>\n",
       "    </tr>\n",
       "    <tr>\n",
       "      <th>46</th>\n",
       "      <td>47</td>\n",
       "      <td>Female</td>\n",
       "      <td>50</td>\n",
       "      <td>40</td>\n",
       "      <td>55</td>\n",
       "      <td>3</td>\n",
       "    </tr>\n",
       "    <tr>\n",
       "      <th>18</th>\n",
       "      <td>19</td>\n",
       "      <td>Male</td>\n",
       "      <td>52</td>\n",
       "      <td>23</td>\n",
       "      <td>29</td>\n",
       "      <td>3</td>\n",
       "    </tr>\n",
       "    <tr>\n",
       "      <th>98</th>\n",
       "      <td>99</td>\n",
       "      <td>Male</td>\n",
       "      <td>48</td>\n",
       "      <td>61</td>\n",
       "      <td>42</td>\n",
       "      <td>3</td>\n",
       "    </tr>\n",
       "    <tr>\n",
       "      <th>92</th>\n",
       "      <td>93</td>\n",
       "      <td>Male</td>\n",
       "      <td>48</td>\n",
       "      <td>60</td>\n",
       "      <td>49</td>\n",
       "      <td>3</td>\n",
       "    </tr>\n",
       "    <tr>\n",
       "      <th>62</th>\n",
       "      <td>63</td>\n",
       "      <td>Female</td>\n",
       "      <td>67</td>\n",
       "      <td>47</td>\n",
       "      <td>52</td>\n",
       "      <td>3</td>\n",
       "    </tr>\n",
       "  </tbody>\n",
       "</table>\n",
       "<p>200 rows × 6 columns</p>\n",
       "</div>"
      ],
      "text/plain": [
       "     CustID  Gender  Age  Inc  SpendScr label\n",
       "136     137  Female   44   73         7     0\n",
       "154     155  Female   47   78        16     0\n",
       "152     153  Female   44   78        20     0\n",
       "198     199    Male   32  137        18     0\n",
       "148     149  Female   34   78        22     0\n",
       "..      ...     ...  ...  ...       ...   ...\n",
       "46       47  Female   50   40        55     3\n",
       "18       19    Male   52   23        29     3\n",
       "98       99    Male   48   61        42     3\n",
       "92       93    Male   48   60        49     3\n",
       "62       63  Female   67   47        52     3\n",
       "\n",
       "[200 rows x 6 columns]"
      ]
     },
     "execution_count": 6,
     "metadata": {},
     "output_type": "execute_result"
    }
   ],
   "source": [
    "# sort the rows by the label\n",
    "df = df.sort_values(by = 'label')\n",
    "df"
   ]
  },
  {
   "cell_type": "code",
   "execution_count": 7,
   "id": "7bf28463",
   "metadata": {},
   "outputs": [
    {
     "data": {
      "image/png": "[encoded data removed]",
      "text/plain": [
       "<Figure size 1200x500 with 1 Axes>"
      ]
     },
     "metadata": {},
     "output_type": "display_data"
    }
   ],
   "source": [
    "# adapted from https://stackoverflow.com/questions/63792528/boxplot-custom-width-in-seaborn\n",
    "# illustrate boxplots where all are equally sized\n",
    "fig, ax1 = plt.subplots(ncols=1, figsize=(12, 5))\n",
    "bins, groups = zip(*df.groupby('label')['Age'])\n",
    "lengths = np.array([len(group) for group in groups])\n",
    "max_width = 0.8\n",
    "ax1.boxplot(groups,\n",
    "            patch_artist=True, boxprops={'facecolor': 'white'})\n",
    "ax1.set_xticklabels(bins)\n",
    "ax1.set_xlabel('Cluster Number - All Boxplots are Equally Sized')\n",
    "ax1.set_ylabel('Age')\n",
    "plt.tight_layout()\n",
    "plt.show()"
   ]
  },
  {
   "cell_type": "code",
   "execution_count": 8,
   "id": "efe2d4ce",
   "metadata": {},
   "outputs": [
    {
     "data": {
      "image/png": "[encoded data removed]",
      "text/plain": [
       "<Figure size 1200x500 with 1 Axes>"
      ]
     },
     "metadata": {},
     "output_type": "display_data"
    }
   ],
   "source": [
    "# adapted from https://stackoverflow.com/questions/63792528/boxplot-custom-width-in-seaborn\n",
    "fig, ax1 = plt.subplots(ncols=1, figsize=(12, 5))\n",
    "bins, groups = zip(*df.groupby('label')['Age'])\n",
    "lengths = np.array([len(group) for group in groups])\n",
    "max_width = 0.8\n",
    "ax1.boxplot(groups, widths=max_width * lengths / lengths.max(),\n",
    "            patch_artist=True, boxprops={'facecolor': 'white'})\n",
    "ax1.set_xticklabels(bins)\n",
    "ax1.set_xlabel('Cluster Number - Variable Width based on Proportion of N')\n",
    "ax1.set_ylabel('Age')\n",
    "plt.tight_layout()\n",
    "plt.show()"
   ]
  },
  {
   "cell_type": "code",
   "execution_count": 9,
   "id": "2e0e2baa",
   "metadata": {},
   "outputs": [
    {
     "data": {
      "text/plain": [
       "0    0.467692\n",
       "1    0.701538\n",
       "2    0.492308\n",
       "3    0.800000\n",
       "Name: width, dtype: float64"
      ]
     },
     "execution_count": 9,
     "metadata": {},
     "output_type": "execute_result"
    }
   ],
   "source": [
    "# calculate the variable widths for the boxplot\n",
    "df2 = df.groupby(['label']).size()\n",
    "largest = df2.max()\n",
    "maxwidth = 0.8\n",
    "df2 = df2.to_frame(name='count')\n",
    "df2 = df2.reset_index()\n",
    "df2['width'] = maxwidth * df2['count'] / largest\n",
    "width = df2['width']\n",
    "width"
   ]
  },
  {
   "cell_type": "code",
   "execution_count": 10,
   "id": "83603458",
   "metadata": {},
   "outputs": [
    {
     "data": {
      "image/png": "[encoded data removed]",
      "text/plain": [
       "<Figure size 1200x500 with 1 Axes>"
      ]
     },
     "metadata": {},
     "output_type": "display_data"
    }
   ],
   "source": [
    "# add the means labels to the boxplots\n",
    "# https://stackoverflow.com/questions/58066009/how-to-display-numeric-mean-and-std-values-next-to-a-box-plot-in-a-series-of-box\n",
    "\n",
    "fig, ax1 = plt.subplots(ncols=1, figsize=(12, 5))\n",
    "bins, groups = zip(*df.groupby('label')['Age'])\n",
    "lengths = np.array([len(group) for group in groups])\n",
    "max_width = 0.8\n",
    "ax1.boxplot(groups, widths=max_width * lengths / lengths.max(),\n",
    "            showmeans=True,\n",
    "            patch_artist=True, boxprops={'facecolor': 'white'})\n",
    "ax1.set_xticklabels(bins)\n",
    "ax1.set_xlabel('Cluster Number - Variable Width based on Proportion of N')\n",
    "ax1.set_ylabel('Age')\n",
    "plt.tight_layout()\n",
    "plt.show()"
   ]
  },
  {
   "cell_type": "code",
   "execution_count": 11,
   "id": "f60547b4",
   "metadata": {},
   "outputs": [
    {
     "data": {
      "text/html": [
       "<div>\n",
       "<style scoped>\n",
       "    .dataframe tbody tr th:only-of-type {\n",
       "        vertical-align: middle;\n",
       "    }\n",
       "\n",
       "    .dataframe tbody tr th {\n",
       "        vertical-align: top;\n",
       "    }\n",
       "\n",
       "    .dataframe thead th {\n",
       "        text-align: right;\n",
       "    }\n",
       "</style>\n",
       "<table border=\"1\" class=\"dataframe\">\n",
       "  <thead>\n",
       "    <tr style=\"text-align: right;\">\n",
       "      <th></th>\n",
       "      <th>means</th>\n",
       "    </tr>\n",
       "  </thead>\n",
       "  <tbody>\n",
       "    <tr>\n",
       "      <th>0</th>\n",
       "      <td>39.4</td>\n",
       "    </tr>\n",
       "    <tr>\n",
       "      <th>1</th>\n",
       "      <td>25.4</td>\n",
       "    </tr>\n",
       "    <tr>\n",
       "      <th>2</th>\n",
       "      <td>32.9</td>\n",
       "    </tr>\n",
       "    <tr>\n",
       "      <th>3</th>\n",
       "      <td>54.0</td>\n",
       "    </tr>\n",
       "  </tbody>\n",
       "</table>\n",
       "</div>"
      ],
      "text/plain": [
       "   means\n",
       "0   39.4\n",
       "1   25.4\n",
       "2   32.9\n",
       "3   54.0"
      ]
     },
     "execution_count": 11,
     "metadata": {},
     "output_type": "execute_result"
    }
   ],
   "source": [
    "# illustrate how to get the means\n",
    "bp = ax1.boxplot(groups, widths=max_width * lengths / lengths.max(),\n",
    "            showmeans=True,\n",
    "            patch_artist=True, boxprops={'facecolor': 'white'})\n",
    "means = [mean.get_ydata() for mean in bp[\"means\"]]\n",
    "means = pd.DataFrame(means)\n",
    "means.columns = ['means']\n",
    "means.means = round(means.means,1)\n",
    "means"
   ]
  },
  {
   "cell_type": "code",
   "execution_count": 12,
   "id": "d07212af",
   "metadata": {},
   "outputs": [
    {
     "data": {
      "image/png": "[encoded data removed]",
      "text/plain": [
       "<Figure size 1200x500 with 1 Axes>"
      ]
     },
     "metadata": {},
     "output_type": "display_data"
    }
   ],
   "source": [
    "# add the means labels to the boxplots\n",
    "# https://stackoverflow.com/questions/58066009/how-to-display-numeric-mean-and-std-values-next-to-a-box-plot-in-a-series-of-box\n",
    "\n",
    "fig, ax1 = plt.subplots(ncols=1, figsize=(12, 5))\n",
    "bins, groups = zip(*df.groupby('label')['Age'])\n",
    "lengths = np.array([len(group) for group in groups])\n",
    "max_width = 0.8\n",
    "ax1.boxplot(groups, widths=max_width * lengths / lengths.max(),\n",
    "            showmeans=True,\n",
    "            patch_artist=True, boxprops={'facecolor': 'white'})\n",
    "means = [mean.get_ydata() for mean in bp[\"means\"]]\n",
    "means = pd.DataFrame(means)\n",
    "means.columns = ['means']\n",
    "means.means = round(means.means,1)\n",
    "for i, line in enumerate(bp['medians']):\n",
    "    x, y = line.get_xydata()[1]\n",
    "    x=x\n",
    "    y=means.means[i]\n",
    "    text = ' μ=  ' + str(means.means[i])\n",
    "    ax1.annotate(text, xy=(x, y))\n",
    "\n",
    "ax1.set_xticklabels(bins)\n",
    "ax1.set_xlabel('Cluster Number - Variable Width based on Proportion of N')\n",
    "ax1.set_ylabel('Age')\n",
    "plt.tight_layout()\n",
    "plt.show()"
   ]
  }
 ],
 "metadata": {
  "kernelspec": {
   "display_name": "Python 3 (ipykernel)",
   "language": "python",
   "name": "python3"
  },
  "language_info": {
   "codemirror_mode": {
    "name": "ipython",
    "version": 3
   },
   "file_extension": ".py",
   "mimetype": "text/x-python",
   "name": "python",
   "nbconvert_exporter": "python",
   "pygments_lexer": "ipython3",
   "version": "3.11.7"
  }
 },
 "nbformat": 4,
 "nbformat_minor": 5
}
